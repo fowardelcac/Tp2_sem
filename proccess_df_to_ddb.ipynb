{
  "nbformat": 4,
  "nbformat_minor": 0,
  "metadata": {
    "colab": {
      "provenance": [],
      "authorship_tag": "ABX9TyMO9Y03oKMhug5o1TkD3ZcM",
      "include_colab_link": true
    },
    "kernelspec": {
      "name": "python3",
      "display_name": "Python 3"
    },
    "language_info": {
      "name": "python"
    }
  },
  "cells": [
    {
      "cell_type": "markdown",
      "metadata": {
        "id": "view-in-github",
        "colab_type": "text"
      },
      "source": [
        "<a href=\"https://colab.research.google.com/github/fowardelcac/Tp2_sem/blob/main/proccess_df_to_ddb.ipynb\" target=\"_parent\"><img src=\"https://colab.research.google.com/assets/colab-badge.svg\" alt=\"Open In Colab\"/></a>"
      ]
    },
    {
      "cell_type": "code",
      "execution_count": 70,
      "metadata": {
        "id": "GfQChzrMvW4y"
      },
      "outputs": [],
      "source": [
        "import sqlite3\n",
        "import pandas as pd\n",
        "import numpy as np"
      ]
    },
    {
      "cell_type": "code",
      "source": [
        "def process(df: pd.DataFrame):\n",
        "    # Función para imputar valores faltantes de forma aleatoria\n",
        "    def random_imputer(df_filter: pd.DataFrame, col: str):\n",
        "        # Seleccionar valores no nulos de la columna para la imputación\n",
        "        non_null_values = df_filter[col].dropna().values\n",
        "\n",
        "        # Aplicar un valor aleatorio de non_null_values donde hay NaN en la columna\n",
        "        df_filter.loc[:, col] = df_filter[col].apply(\n",
        "            lambda x: np.random.choice(non_null_values) if pd.isnull(x) else x\n",
        "        )\n",
        "        return df_filter\n",
        "\n",
        "    # Crear una copia del DataFrame original\n",
        "    df = df.copy()\n",
        "    df.drop_duplicates(inplace=True)  # Eliminar duplicados\n",
        "    df_filter = df.dropna(\n",
        "        subset=[\"country\", \"designation\"]\n",
        "    )  # Filtrar filas con valores nulos en las columnas clave\n",
        "    df_filter = random_imputer(\n",
        "        df_filter, \"price\"\n",
        "    )  # Imputar valores faltantes en la columna \"price\"\n",
        "    return df_filter"
      ],
      "metadata": {
        "id": "N4zQ-lFw2inm"
      },
      "execution_count": 71,
      "outputs": []
    },
    {
      "cell_type": "code",
      "source": [
        "def build_country(df: pd.DataFrame):\n",
        "  unique_countries = df['country'].dropna().unique()\n",
        "  countries_df = pd.DataFrame(unique_countries, columns=['country'])\n",
        "  countries_df['country_id'] = countries_df.index + 1\n",
        "  return countries_df\n",
        "\n",
        "def build_prov(df: pd.DataFrame, country_df: pd.DataFrame):\n",
        "  unique_provinces = df[['province', 'country']].dropna().drop_duplicates()  # Obtener provincias con su país\n",
        "  unique_provinces = unique_provinces.merge(country_df[['country_id', 'country']], on='country', how='left')  # Unir con la tabla de países\n",
        "  provinces_df = unique_provinces[['province', 'country_id']]  # Seleccionar las columnas necesarias\n",
        "  provinces_df['province_id'] = provinces_df.index + 1\n",
        "  provinces_df.columns = ['province', 'country_id', 'province_id',]\n",
        "  return provinces_df # Renombrar las columnas para mantener consistencia\n",
        "\n",
        "def build_region(df: pd.DataFrame, province_df: pd.DataFrame):\n",
        "  unique_region = df[['province', 'region_1']].dropna().drop_duplicates()\n",
        "  unique_region = unique_region.merge(province_df[['province_id', 'province']], on='province', how='left')\n",
        "  region_df = unique_region[['region_1', 'province_id']]\n",
        "  region_df['region_id'] = region_df.index + 1\n",
        "  region_df.columns = ['region', 'province_id', 'region_id']\n",
        "  return region_df\n",
        "\n",
        "def build_variety(df: pd.DataFrame):\n",
        "  unique_varieties = df['variety'].dropna().unique()\n",
        "  var_df = pd.DataFrame(unique_varieties, columns=['variety'])\n",
        "  var_df['variety_id'] = var_df.index + 1\n",
        "  return var_df\n",
        "\n",
        "def build_winery(df: pd.DataFrame):\n",
        "  unique_winery = df['winery'].dropna().unique()\n",
        "  win_var = pd.DataFrame(unique_winery, columns=['winery'])\n",
        "  win_var['winery_id'] = win_var.index + 1\n",
        "  return win_var\n",
        "\n",
        "def build_taster(df: pd.DataFrame):\n",
        "  unique_taster = df['taster_name'].dropna().unique()\n",
        "  taster_df = pd.DataFrame(unique_taster, columns=['taster_name'])\n",
        "\n",
        "  taster_handles = df[['taster_name', 'taster_twitter_handle']].dropna().drop_duplicates()\n",
        "  taster_df = taster_df.merge(taster_handles, on='taster_name', how='left')\n",
        "  taster_df['taster_id'] = taster_df.index + 1\n",
        "  return taster_df\n",
        "\n",
        "def build_wine(df: pd.DataFrame, country_table: pd.DataFrame, province_table: pd.DataFrame, region_table: pd.DataFrame, variety_table: pd.DataFrame, winery_table: pd.DataFrame):\n",
        "  wine_df = df[['title', 'designation', 'points', 'price', 'variety', 'winery', 'country']]\n",
        "  wine_df = wine_df.merge(variety_table[[\"variety_id\", \"variety\"]], on='variety', how='left')\n",
        "  wine_df = wine_df.merge(winery_table[[\"winery_id\", \"winery\"]], on='winery', how='left')\n",
        "  wine_df = wine_df.merge(country_table[[\"country_id\", \"country\"]], on='country', how='left')\n",
        "  wine_df.drop(['variety', 'winery', 'country'], axis=1, inplace=True)\n",
        "  wine_df['wine_id'] = wine_df.index + 1\n",
        "  return wine_df\n",
        "\n",
        "def build_review(df: pd.DataFrame, taster_table: pd.DataFrame, wine_table: pd.DataFrame):\n",
        "  review_table = df[['taster_name', 'title', 'description']]\n",
        "  review_table = review_table.merge(taster_table[[\"taster_id\", \"taster_name\"]], on='taster_name', how='left')\n",
        "  review_table['taster_id'] = review_table['taster_id'].fillna(0).astype(int)\n",
        "\n",
        "  review_table = review_table.merge(wine_table[[\"wine_id\", \"title\"]], on='title', how='left')\n",
        "  review_table.drop([\"title\", \"taster_name\"], axis=1, inplace=True)\n",
        "  review_table['review_id'] = review_table.index + 1\n",
        "  return review_table"
      ],
      "metadata": {
        "id": "Ggtb3rwl92zQ"
      },
      "execution_count": 72,
      "outputs": []
    },
    {
      "cell_type": "code",
      "source": [
        "def processor():\n",
        "  data = pd.read_csv(\"https://media.githubusercontent.com/media/fowardelcac/Tp2_sem/refs/heads/main/winemag-data-130k-v2.csv\").drop('Unnamed: 0', axis = 1)\n",
        "  df = process(data)\n",
        "\n",
        "  country_table = build_country(df)\n",
        "  province_table = build_prov(df, country_table)\n",
        "  region_table = build_region(df, province_table)\n",
        "  variety_table = build_variety(df)\n",
        "  winery_table = build_winery(df)\n",
        "  taster_table = build_taster(df)\n",
        "  taster_table.loc[len(taster_table)] = ['unknown', 'NaN', 0]\n",
        "\n",
        "  wine_table = build_wine(df, country_table, province_table, region_table, variety_table, winery_table)\n",
        "  review_table = build_review(df, taster_table, wine_table)\n",
        "  return country_table.set_index(\"country_id\"), province_table.set_index(\"province_id\"), region_table.set_index(\"region_id\"), variety_table.set_index(\"variety_id\"), winery_table.set_index(\"winery_id\"), taster_table.set_index(\"taster_id\"), wine_table.set_index(\"wine_id\"), review_table.set_index(\"review_id\")\n"
      ],
      "metadata": {
        "id": "OLhqHIp-z4pk"
      },
      "execution_count": 73,
      "outputs": []
    },
    {
      "cell_type": "code",
      "source": [
        "country_table, province_table, region_table, variety_table, winery_table, taster_table, wine_table, review_table = processor()"
      ],
      "metadata": {
        "id": "-YJVySsR8j0X"
      },
      "execution_count": 74,
      "outputs": []
    },
    {
      "cell_type": "code",
      "source": [
        "l = [country_table, province_table, region_table, variety_table, winery_table, taster_table, wine_table, review_table]\n",
        "for i in l:\n",
        "  print(i.head(1))\n",
        "  print(\"*\"* 100)"
      ],
      "metadata": {
        "id": "VwjOW5zF_-9k",
        "outputId": "58c58a7c-351d-44f1-80ed-af922e7fde13",
        "colab": {
          "base_uri": "https://localhost:8080/"
        }
      },
      "execution_count": 79,
      "outputs": [
        {
          "output_type": "stream",
          "name": "stdout",
          "text": [
            "           country\n",
            "country_id        \n",
            "1            Italy\n",
            "****************************************************************************************************\n",
            "                      province  country_id\n",
            "province_id                               \n",
            "1            Sicily & Sardinia           1\n",
            "****************************************************************************************************\n",
            "          region  province_id\n",
            "region_id                    \n",
            "1           Etna            1\n",
            "****************************************************************************************************\n",
            "                variety\n",
            "variety_id             \n",
            "1           White Blend\n",
            "****************************************************************************************************\n",
            "            winery\n",
            "winery_id         \n",
            "1          Nicosia\n",
            "****************************************************************************************************\n",
            "             taster_name taster_twitter_handle\n",
            "taster_id                                     \n",
            "1          Kerin O’Keefe          @kerinokeefe\n",
            "****************************************************************************************************\n",
            "                                     title   designation  points  price  \\\n",
            "wine_id                                                                   \n",
            "1        Nicosia 2013 Vulkà Bianco  (Etna)  Vulkà Bianco      87  125.0   \n",
            "\n",
            "         variety_id  winery_id  country_id  \n",
            "wine_id                                     \n",
            "1                 1          1           1  \n",
            "****************************************************************************************************\n",
            "                                                 description  taster_id  \\\n",
            "review_id                                                                 \n",
            "1          Aromas include tropical fruit, broom, brimston...          1   \n",
            "\n",
            "           wine_id  \n",
            "review_id           \n",
            "1                1  \n",
            "****************************************************************************************************\n"
          ]
        }
      ]
    },
    {
      "cell_type": "code",
      "source": [],
      "metadata": {
        "id": "pyEl-NrkyX9Z"
      },
      "execution_count": null,
      "outputs": []
    }
  ]
}